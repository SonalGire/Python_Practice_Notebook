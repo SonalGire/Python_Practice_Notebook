{
  "nbformat": 4,
  "nbformat_minor": 0,
  "metadata": {
    "colab": {
      "provenance": [],
      "authorship_tag": "ABX9TyNGOLH+9TxiwvtRv1shb6LM",
      "include_colab_link": true
    },
    "kernelspec": {
      "name": "python3",
      "display_name": "Python 3"
    },
    "language_info": {
      "name": "python"
    }
  },
  "cells": [
    {
      "cell_type": "markdown",
      "metadata": {
        "id": "view-in-github",
        "colab_type": "text"
      },
      "source": [
        "<a href=\"https://colab.research.google.com/github/SonalGire/Python_Practice_Notebook/blob/main/Loops.ipynb\" target=\"_parent\"><img src=\"https://colab.research.google.com/assets/colab-badge.svg\" alt=\"Open In Colab\"/></a>"
      ]
    },
    {
      "cell_type": "markdown",
      "source": [
        "<h2>Loops :</h2>"
      ],
      "metadata": {
        "id": "S2DDpivt7EQP"
      }
    },
    {
      "cell_type": "markdown",
      "source": [
        "1. Print numbers from 1 to 10 using a while loop."
      ],
      "metadata": {
        "id": "t_me7U0N9PH_"
      }
    },
    {
      "cell_type": "code",
      "source": [
        "# Print numbers from 1 to 10 using a while loop.\n",
        "count = 1\n",
        "\n",
        "while count <=10:\n",
        "  print(count)\n",
        "  count = count+1"
      ],
      "metadata": {
        "colab": {
          "base_uri": "https://localhost:8080/"
        },
        "id": "NgljlC9Q7KAC",
        "outputId": "35d72609-851e-4909-8b53-ccc590dc34f3"
      },
      "execution_count": 2,
      "outputs": [
        {
          "output_type": "stream",
          "name": "stdout",
          "text": [
            "1\n",
            "2\n",
            "3\n",
            "4\n",
            "5\n",
            "6\n",
            "7\n",
            "8\n",
            "9\n",
            "10\n"
          ]
        }
      ]
    },
    {
      "cell_type": "markdown",
      "source": [
        "2. Print numbers from 10 to 1 using a while loop."
      ],
      "metadata": {
        "id": "SxyYw1G29NXX"
      }
    },
    {
      "cell_type": "code",
      "source": [
        "# Print numbers from 10 to 1 using a while loop.\n",
        "\n",
        "count= 10\n",
        "\n",
        "while count >=1:\n",
        "  print(count)\n",
        "  count -=1"
      ],
      "metadata": {
        "colab": {
          "base_uri": "https://localhost:8080/"
        },
        "id": "F6ZFHMuq-T17",
        "outputId": "2e662bb4-d1c1-424a-80d2-3441d537448e"
      },
      "execution_count": 3,
      "outputs": [
        {
          "output_type": "stream",
          "name": "stdout",
          "text": [
            "10\n",
            "9\n",
            "8\n",
            "7\n",
            "6\n",
            "5\n",
            "4\n",
            "3\n",
            "2\n",
            "1\n"
          ]
        }
      ]
    },
    {
      "cell_type": "markdown",
      "source": [
        "3. Write a program using a while loop to calculate the sum of numbers from 1 to n (where n is input by the user)."
      ],
      "metadata": {
        "id": "WPHL79MY_ewn"
      }
    },
    {
      "cell_type": "code",
      "source": [
        "# Write a program using a while loop to calculate the sum of numbers from 1 to n (where n is input by the user).\n",
        "\n",
        "count = 1\n",
        "total = 0\n",
        "\n",
        "num = int(input(\"Enter a number for calculating Sum of that number from 1 : \"))\n",
        "\n",
        "while count<=num:\n",
        "  total += count\n",
        "  count +=1\n",
        "\n",
        "print(\"Sum from 1 to\",num, \":\",total)\n"
      ],
      "metadata": {
        "colab": {
          "base_uri": "https://localhost:8080/"
        },
        "id": "uL0xUFH9-cG-",
        "outputId": "dc654f2c-a1c5-4918-9fc7-67b3c724e6d6"
      },
      "execution_count": 7,
      "outputs": [
        {
          "output_type": "stream",
          "name": "stdout",
          "text": [
            "Enter a number for calculating Sum of that number from 1 : 5\n",
            "Sum from 1 to 5 : 15\n"
          ]
        }
      ]
    },
    {
      "cell_type": "markdown",
      "source": [
        "4. Keep asking the user to enter a number until they enter a negative number. Then, print the total count of numbers entered.  "
      ],
      "metadata": {
        "id": "by1DPRZ6eiRo"
      }
    },
    {
      "cell_type": "code",
      "source": [
        "# Keep asking the user to enter a number until they enter a negative number. Then, print the total count of numbers entered.\n",
        "\n",
        "counter =0\n",
        "\n",
        "while True:\n",
        "  num = int(input(\"Enter a number : \"))\n",
        "  counter +=1\n",
        "  if num<0:\n",
        "    print(\"Total count of numbers before entering negative number : \", counter-1)\n",
        "    break\n"
      ],
      "metadata": {
        "id": "iB02sNoGBrZJ",
        "colab": {
          "base_uri": "https://localhost:8080/"
        },
        "outputId": "5ea49689-7796-4940-a740-d2c772ae39a1"
      },
      "execution_count": 2,
      "outputs": [
        {
          "output_type": "stream",
          "name": "stdout",
          "text": [
            "Enter a number : 1\n",
            "Enter a number : 2\n",
            "Enter a number : 4\n",
            "Enter a number : 7\n",
            "Enter a number : 8\n",
            "Enter a number : -2\n",
            "Total count of numbers before entering negative number :  5\n"
          ]
        }
      ]
    },
    {
      "cell_type": "markdown",
      "source": [
        "5. Print the multiplication table of a given number using a while loop (e.g., 5 × 1 up to 5 × 10)."
      ],
      "metadata": {
        "id": "f_K-rHUKn36A"
      }
    },
    {
      "cell_type": "code",
      "source": [
        "# Print the multiplication table of a given number using a while loop (e.g., 5 × 1 up to 5 × 10).\n",
        "\n",
        "num = int(input(\"Enter a number to print a table: \"))\n",
        "\n",
        "i = 1\n",
        "while i <= 10:\n",
        "    res = num * i\n",
        "    print(num, \"*\", i, \"=\", res)\n",
        "    i += 1\n",
        "\n"
      ],
      "metadata": {
        "colab": {
          "base_uri": "https://localhost:8080/"
        },
        "collapsed": true,
        "id": "8u2bGvigPYeA",
        "outputId": "48150d6b-361b-414a-9f88-ccebbe5b8608"
      },
      "execution_count": 48,
      "outputs": [
        {
          "output_type": "stream",
          "name": "stdout",
          "text": [
            "Enter a number to print a table: 5\n",
            "5 * 1 = 5\n",
            "5 * 2 = 10\n",
            "5 * 3 = 15\n",
            "5 * 4 = 20\n",
            "5 * 5 = 25\n",
            "5 * 6 = 30\n",
            "5 * 7 = 35\n",
            "5 * 8 = 40\n",
            "5 * 9 = 45\n",
            "5 * 10 = 50\n"
          ]
        }
      ]
    },
    {
      "cell_type": "markdown",
      "source": [
        "6. Write a program that asks for numbers and adds them to a total sum. Stop asking when the user enters 0, then print the final sum."
      ],
      "metadata": {
        "id": "PJ-DQlnZsqbz"
      }
    },
    {
      "cell_type": "code",
      "source": [
        "# Write a program that asks for numbers and adds them to a total sum. Stop asking when the user enters 0, then print the final sum.\n",
        "\n",
        "total = 0\n",
        "while True:\n",
        "  n= int(input(\"Enter a number: \"))\n",
        "  total = n + total\n",
        "  if n==0 :\n",
        "    print(\"Total sum of numbers : \",total)\n",
        "    break\n"
      ],
      "metadata": {
        "colab": {
          "base_uri": "https://localhost:8080/"
        },
        "id": "7LsrCIwakWgS",
        "outputId": "5f5798bf-1220-4267-fe83-6a794b96b09e"
      },
      "execution_count": 25,
      "outputs": [
        {
          "output_type": "stream",
          "name": "stdout",
          "text": [
            "Enter a number: 1\n",
            "Enter a number: 2\n",
            "Enter a number: 3\n",
            "Enter a number: 3\n",
            "Enter a number: 4\n",
            "Enter a number: 0\n",
            "Total sum of numbers :  13\n"
          ]
        }
      ]
    },
    {
      "cell_type": "markdown",
      "source": [
        "7. Ask the user to guess a secret number (e.g., 7). Keep asking until they guess correctly, then print \"Correct guess!\"."
      ],
      "metadata": {
        "id": "alCj5jQ6vh5f"
      }
    },
    {
      "cell_type": "code",
      "source": [
        "# Ask the user to guess a secret number (e.g., 7). Keep asking until they guess correctly, then print \"Correct guess!\".\n",
        "import random\n",
        "s = random.randint(1,10)\n",
        "count = 0\n",
        "while True:\n",
        "  n = int(input(\"Guess the secerate number : \"))\n",
        "  count+=1\n",
        "  if n == s:\n",
        "    print(\"Correct guess!\")\n",
        "    break\n",
        "\n",
        "print(\"Total attempts : \",count-1)\n"
      ],
      "metadata": {
        "colab": {
          "base_uri": "https://localhost:8080/"
        },
        "id": "2Nq8_PK0usgz",
        "outputId": "2e27f99c-20c3-4e40-89c0-4b9a76501edf"
      },
      "execution_count": 34,
      "outputs": [
        {
          "output_type": "stream",
          "name": "stdout",
          "text": [
            "Guess the secerate number : 4\n",
            "Guess the secerate number : 5\n",
            "Guess the secerate number : 6\n",
            "Guess the secerate number : 7\n",
            "Guess the secerate number : 8\n",
            "Guess the secerate number : 1\n",
            "Guess the secerate number : 2\n",
            "Guess the secerate number : 3\n",
            "Guess the secerate number : 9\n",
            "Correct guess!\n",
            "Total attempts :  8\n"
          ]
        }
      ]
    },
    {
      "cell_type": "markdown",
      "source": [
        "8. Print all even numbers between 1 and 50 using a while loop."
      ],
      "metadata": {
        "id": "us-9P_3Yx__B"
      }
    },
    {
      "cell_type": "code",
      "source": [
        "# Print all even numbers between 1 and 50 using a while loop.\n",
        "a = 1\n",
        "list1 = []\n",
        "while True:\n",
        "  if a>=50:\n",
        "    break\n",
        "  else:\n",
        "    if a%2==0:\n",
        "      list1.append(a)\n",
        "    a+=1\n",
        "print(list1)"
      ],
      "metadata": {
        "colab": {
          "base_uri": "https://localhost:8080/"
        },
        "id": "ai5FE0hhwrhE",
        "outputId": "9040658c-25e1-4f56-c478-3ca6000c38a5"
      },
      "execution_count": 61,
      "outputs": [
        {
          "output_type": "stream",
          "name": "stdout",
          "text": [
            "[2, 4, 6, 8, 10, 12, 14, 16, 18, 20, 22, 24, 26, 28, 30, 32, 34, 36, 38, 40, 42, 44, 46, 48]\n"
          ]
        }
      ]
    },
    {
      "cell_type": "markdown",
      "source": [
        "9. Write a program to reverse a number using a while loop (e.g., input 1234 → output 4321)."
      ],
      "metadata": {
        "id": "N65HvPvl-NDs"
      }
    },
    {
      "cell_type": "code",
      "source": [
        "# Write a program to reverse a number using a while loop (e.g., input 1234 → output 4321).\n",
        "\n",
        "while True:\n",
        "  n = int(input(\"Enter a number to reverse a number: \"))\n",
        "  n = str(n)\n",
        "  rev= n[::-1]\n",
        "  print(rev)\n",
        "  break"
      ],
      "metadata": {
        "colab": {
          "base_uri": "https://localhost:8080/"
        },
        "collapsed": true,
        "id": "cz1_yib8yWhK",
        "outputId": "3b2e511c-75a6-4d0b-889e-dbfc4c4c81c4"
      },
      "execution_count": 17,
      "outputs": [
        {
          "output_type": "stream",
          "name": "stdout",
          "text": [
            "Enter a number to reverse a number: 1234\n",
            "4321\n"
          ]
        }
      ]
    },
    {
      "cell_type": "markdown",
      "source": [
        "10. Create a simple login system using a while loop that keeps asking for a username and password until the correct combination is entered."
      ],
      "metadata": {
        "id": "MmSgx6kbGcMr"
      }
    },
    {
      "cell_type": "code",
      "source": [
        "# Create a simple login system using a while loop that keeps asking for a username and password until the correct combination is entered.\n",
        "\n",
        "# uid = input(\"Enter a username : \")\n",
        "# pwd = int(input(\"Enter your password :\" ))\n",
        "\n",
        "uid = \"Sonal\"\n",
        "pwd =123\n",
        "\n",
        "while True:\n",
        "  user = input(\"Enter your Username :\")\n",
        "  pswrd = int(input(\"Enter your password : \"))\n",
        "  if user==uid and pswrd == pwd:\n",
        "    print(\"You've logged in successfully !!\")\n",
        "  elif user==uid and pswrd !=pwd:\n",
        "    print(\"Enter correct password !!\")\n",
        "  elif user!=uid and pswrd ==pwd:\n",
        "    print(\"Enter valid username and password !!\")\n",
        "  else:\n",
        "    print(\"Wrong details!!\")\n",
        "  break\n",
        "\n"
      ],
      "metadata": {
        "colab": {
          "base_uri": "https://localhost:8080/"
        },
        "id": "dtQ9tQrKARde",
        "outputId": "771e41ec-758a-42b1-c189-a518d4d50657"
      },
      "execution_count": 21,
      "outputs": [
        {
          "output_type": "stream",
          "name": "stdout",
          "text": [
            "Enter your Username :xyz\n",
            "Enter your password : 123\n",
            "Enter valid username and password !!\n"
          ]
        }
      ]
    },
    {
      "cell_type": "markdown",
      "source": [
        "11. Count and print how many digits are in a given integer using a while loop."
      ],
      "metadata": {
        "id": "jLDlnichJXh3"
      }
    },
    {
      "cell_type": "code",
      "source": [
        "#Count and print how many digits are in a given integer using a while loop.\n",
        "num = int(input(\"Enter a num :\" ))\n",
        "\n",
        "if num<0:\n",
        "  print(\"Enter positive number.\")\n",
        "elif num==0:\n",
        "  print(\"Given integer has 1 digit.\")\n",
        "else:\n",
        "  count =0\n",
        "  while num>0:\n",
        "      num = num //10\n",
        "      count +=1\n",
        "  print(\"Digits in given intger :\",count)\n",
        "\n"
      ],
      "metadata": {
        "colab": {
          "base_uri": "https://localhost:8080/"
        },
        "collapsed": true,
        "id": "IBOJlULrG_in",
        "outputId": "b5a4cacb-bc11-42ed-f2b2-9e20a06f21e5"
      },
      "execution_count": 47,
      "outputs": [
        {
          "output_type": "stream",
          "name": "stdout",
          "text": [
            "Enter a num :1247\n",
            "Digits in given intger : 4\n"
          ]
        }
      ]
    },
    {
      "cell_type": "code",
      "source": [],
      "metadata": {
        "id": "R-YEUGFDMwSv"
      },
      "execution_count": 36,
      "outputs": []
    }
  ]
}